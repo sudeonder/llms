{
  "cells": [
    {
      "cell_type": "markdown",
      "id": "c62d296c",
      "metadata": {
        "id": "c62d296c"
      },
      "source": [
        "## bigram v2 - MLP"
      ]
    },
    {
      "cell_type": "code",
      "source": [
        "import torch\n",
        "import torch.nn.functional as F\n",
        "import matplotlib.pyplot as plt\n",
        "%matplotlib inline"
      ],
      "metadata": {
        "id": "B9lFqPi-3ObM"
      },
      "id": "B9lFqPi-3ObM",
      "execution_count": 1,
      "outputs": []
    },
    {
      "cell_type": "code",
      "source": [
        "# read in all the words\n",
        "words = open('names.txt', 'r').read().splitlines()\n",
        "words[:5], len(words)"
      ],
      "metadata": {
        "id": "Sr6VsENDELLy",
        "outputId": "f2817f17-7315-4957-aff7-7f0b7e3b581a",
        "colab": {
          "base_uri": "https://localhost:8080/"
        }
      },
      "id": "Sr6VsENDELLy",
      "execution_count": 2,
      "outputs": [
        {
          "output_type": "execute_result",
          "data": {
            "text/plain": [
              "(['emma', 'olivia', 'ava', 'isabella', 'sophia'], 32033)"
            ]
          },
          "metadata": {},
          "execution_count": 2
        }
      ]
    },
    {
      "cell_type": "code",
      "source": [
        "# build the vocab of chars and mappings to/from integers\n",
        "chars = sorted(list(set(''.join(words))))\n",
        "stoi = { c:i+1 for i,c in enumerate(chars)}\n",
        "stoi['.'] =0\n",
        "itos = { i:c for c,i in stoi.items()}\n"
      ],
      "metadata": {
        "id": "Ug3j60PbEdWL"
      },
      "id": "Ug3j60PbEdWL",
      "execution_count": 3,
      "outputs": []
    },
    {
      "cell_type": "code",
      "source": [
        "# build the dataset\n",
        "block_size = 3 # context length: how many chars do we take to predict the next one\n",
        "X, Y = [], []\n",
        "\n",
        "for w in words:\n",
        "    # print(w)\n",
        "    context = [0] * block_size\n",
        "    for ch in w + '.':\n",
        "      ix = stoi[ch]\n",
        "      X.append(context)\n",
        "      Y.append(ix)\n",
        "      # print(''.join(itos[i] for i in context), '--->', itos[ix])\n",
        "      context = context[1:] + [ix] # crop and append\n",
        "\n",
        "X = torch.tensor(X)\n",
        "Y = torch.tensor(Y)\n",
        "\n"
      ],
      "metadata": {
        "id": "uf5TI0leF3FZ"
      },
      "id": "uf5TI0leF3FZ",
      "execution_count": 46,
      "outputs": []
    },
    {
      "cell_type": "code",
      "source": [
        "X.shape, X.dtype, Y.shape, Y.dtype"
      ],
      "metadata": {
        "id": "t7gvQKjiI0JC",
        "outputId": "4db8e725-40c7-475b-963b-36747039a25d",
        "colab": {
          "base_uri": "https://localhost:8080/"
        }
      },
      "id": "t7gvQKjiI0JC",
      "execution_count": 48,
      "outputs": [
        {
          "output_type": "execute_result",
          "data": {
            "text/plain": [
              "(torch.Size([228146, 3]), torch.int64, torch.Size([228146]), torch.int64)"
            ]
          },
          "metadata": {},
          "execution_count": 48
        }
      ]
    },
    {
      "cell_type": "code",
      "source": [
        "# build the dataset v2\n",
        "\n",
        "def build_dataset(words):\n",
        "  block_size = 3 # context length: how many chars does the model take to predict the next one\n",
        "  X, Y = [], []\n",
        "  for w in words:\n",
        "    context = [0] * block_size\n",
        "    for ch in w + '.':\n",
        "      ix = stoi[ch]\n",
        "      X.append(context)\n",
        "      Y.append(ix)\n",
        "      context = context[1:] + [ix] # crop and append\n",
        "\n",
        "  X = torch.tensor(X)\n",
        "  Y = torch.tensor(Y)\n",
        "  print(X.shape, Y.shape)\n",
        "  return X, Y\n",
        "\n",
        "\n",
        "import random\n",
        "random.seed(42)\n",
        "random.shuffle(words)\n",
        "n1 = int(len(words)*0.8)\n",
        "n2 = int(len(words)*0.9)\n",
        "\n",
        "Xtr, Ytr = build_dataset(words[:n1])\n",
        "Xdev, Ydev = build_dataset(words[n1:n2])\n",
        "Xte, Yte = build_dataset(words[n2:])"
      ],
      "metadata": {
        "id": "tZ4y0xqQlhF1",
        "outputId": "18cc2ab0-d229-44dc-96fe-8c617a74ac17",
        "colab": {
          "base_uri": "https://localhost:8080/"
        }
      },
      "id": "tZ4y0xqQlhF1",
      "execution_count": 97,
      "outputs": [
        {
          "output_type": "stream",
          "name": "stdout",
          "text": [
            "torch.Size([182771, 3]) torch.Size([182771])\n",
            "torch.Size([22711, 3]) torch.Size([22711])\n",
            "torch.Size([22664, 3]) torch.Size([22664])\n"
          ]
        }
      ]
    },
    {
      "cell_type": "code",
      "source": [
        "# look up table == embedding layer for input integers\n",
        "C = torch.rand((27,2))\n",
        "C.dtype"
      ],
      "metadata": {
        "collapsed": true,
        "id": "Do7ptMwRJu4J",
        "outputId": "5dd948b4-5ae0-4f0f-afc0-665f32d0b904",
        "colab": {
          "base_uri": "https://localhost:8080/"
        }
      },
      "id": "Do7ptMwRJu4J",
      "execution_count": 49,
      "outputs": [
        {
          "output_type": "execute_result",
          "data": {
            "text/plain": [
              "torch.float32"
            ]
          },
          "metadata": {},
          "execution_count": 49
        }
      ]
    },
    {
      "cell_type": "code",
      "source": [
        "C[5]"
      ],
      "metadata": {
        "id": "lZD8gYhcKiYh",
        "outputId": "a2bc049b-0ecf-4752-e2c9-e5e9bc050016",
        "colab": {
          "base_uri": "https://localhost:8080/"
        }
      },
      "id": "lZD8gYhcKiYh",
      "execution_count": 50,
      "outputs": [
        {
          "output_type": "execute_result",
          "data": {
            "text/plain": [
              "tensor([0.2241, 0.1577])"
            ]
          },
          "metadata": {},
          "execution_count": 50
        }
      ]
    },
    {
      "cell_type": "code",
      "source": [
        "F.one_hot(torch.tensor(5), 27).float() @ C"
      ],
      "metadata": {
        "id": "lz4a3lLpKj73",
        "outputId": "4c16d7f1-cfe3-41ee-b82b-77a08a820c5c",
        "colab": {
          "base_uri": "https://localhost:8080/"
        }
      },
      "id": "lz4a3lLpKj73",
      "execution_count": 51,
      "outputs": [
        {
          "output_type": "execute_result",
          "data": {
            "text/plain": [
              "tensor([0.2241, 0.1577])"
            ]
          },
          "metadata": {},
          "execution_count": 51
        }
      ]
    },
    {
      "cell_type": "code",
      "source": [
        "C[X]\n",
        "C[X].shape"
      ],
      "metadata": {
        "collapsed": true,
        "id": "T6Dr_AZtL4FP",
        "outputId": "264e271f-078f-42a2-f8ec-bdb2c59e0a0b",
        "colab": {
          "base_uri": "https://localhost:8080/"
        }
      },
      "id": "T6Dr_AZtL4FP",
      "execution_count": 52,
      "outputs": [
        {
          "output_type": "execute_result",
          "data": {
            "text/plain": [
              "torch.Size([228146, 3, 2])"
            ]
          },
          "metadata": {},
          "execution_count": 52
        }
      ]
    },
    {
      "cell_type": "code",
      "source": [
        "emb = C[X]  # embeddings of all input sequence\n"
      ],
      "metadata": {
        "id": "13hJny0oSvFz"
      },
      "id": "13hJny0oSvFz",
      "execution_count": 53,
      "outputs": []
    },
    {
      "cell_type": "code",
      "source": [
        "# first hidden layer\n",
        "W1 = torch.randn((6,100)) # input : 3  char sequence each one has 2 dimensions\n",
        "b1 = torch.randn(100)"
      ],
      "metadata": {
        "id": "0WrzYluuT4Vp"
      },
      "id": "0WrzYluuT4Vp",
      "execution_count": 54,
      "outputs": []
    },
    {
      "cell_type": "code",
      "source": [
        "# concatenate emb : [32,3,2] -> [32,6]\n",
        "\n",
        "# torch.cat([emb[:,0,:], emb[:,1,:], emb[:,2,:]], 1).shape  // not a good practice inefficient\n",
        "\n",
        "# torch.cat(torch.unbind(emb, 1), 1) // better\n",
        "\n",
        "emb.view(emb.shape[0], -1).shape # -1 inquires torch to guess whats the shape must be\n"
      ],
      "metadata": {
        "id": "RCdLhWFzVaU-",
        "outputId": "1eb8e352-c139-425b-a5f7-796af32a28a6",
        "colab": {
          "base_uri": "https://localhost:8080/"
        }
      },
      "id": "RCdLhWFzVaU-",
      "execution_count": 55,
      "outputs": [
        {
          "output_type": "execute_result",
          "data": {
            "text/plain": [
              "torch.Size([228146, 6])"
            ]
          },
          "metadata": {},
          "execution_count": 55
        }
      ]
    },
    {
      "cell_type": "code",
      "source": [
        "# first hidden state\n",
        "\n",
        "h = emb.view(emb.shape[0], -1) @ W1 + b1\n",
        "h.shape"
      ],
      "metadata": {
        "id": "NCI9670HX6K7",
        "outputId": "4628be2b-6d10-4b05-bd0b-6fa8a8a5fca2",
        "colab": {
          "base_uri": "https://localhost:8080/"
        }
      },
      "id": "NCI9670HX6K7",
      "execution_count": 56,
      "outputs": [
        {
          "output_type": "execute_result",
          "data": {
            "text/plain": [
              "torch.Size([228146, 100])"
            ]
          },
          "metadata": {},
          "execution_count": 56
        }
      ]
    },
    {
      "cell_type": "code",
      "source": [
        "# final layer\n",
        "\n",
        "W2 = torch.randn((100,27))\n",
        "b2 = torch.randn(27)\n",
        "logits = h @ W2 + b2\n",
        "logits.shape"
      ],
      "metadata": {
        "id": "rDQltIEwYzFt",
        "outputId": "e6940ee7-6b6f-4107-fe17-72854773c524",
        "colab": {
          "base_uri": "https://localhost:8080/"
        }
      },
      "id": "rDQltIEwYzFt",
      "execution_count": 57,
      "outputs": [
        {
          "output_type": "execute_result",
          "data": {
            "text/plain": [
              "torch.Size([228146, 27])"
            ]
          },
          "metadata": {},
          "execution_count": 57
        }
      ]
    },
    {
      "cell_type": "code",
      "source": [
        "counts = logits.exp()\n",
        "prob = counts / counts.sum(1, keepdims=True)"
      ],
      "metadata": {
        "id": "RpEQfSGgZUBA"
      },
      "id": "RpEQfSGgZUBA",
      "execution_count": 58,
      "outputs": []
    },
    {
      "cell_type": "code",
      "source": [
        "Y"
      ],
      "metadata": {
        "id": "nZ350qOxauiN",
        "outputId": "2419135a-4bde-4bd2-c2b4-5837e855592e",
        "colab": {
          "base_uri": "https://localhost:8080/"
        }
      },
      "id": "nZ350qOxauiN",
      "execution_count": 59,
      "outputs": [
        {
          "output_type": "execute_result",
          "data": {
            "text/plain": [
              "tensor([ 5, 13, 13,  ..., 26, 24,  0])"
            ]
          },
          "metadata": {},
          "execution_count": 59
        }
      ]
    },
    {
      "cell_type": "code",
      "source": [
        "prob[torch.arange(32), Y].shape # output probabilities of the model for correct chars"
      ],
      "metadata": {
        "id": "LfMbS2cQbNhJ",
        "outputId": "7da0b067-8ecf-4f58-8397-8470e7f5fe9d",
        "colab": {
          "base_uri": "https://localhost:8080/",
          "height": 141
        }
      },
      "id": "LfMbS2cQbNhJ",
      "execution_count": 60,
      "outputs": [
        {
          "output_type": "error",
          "ename": "IndexError",
          "evalue": "shape mismatch: indexing tensors could not be broadcast together with shapes [32], [228146]",
          "traceback": [
            "\u001b[0;31m---------------------------------------------------------------------------\u001b[0m",
            "\u001b[0;31mIndexError\u001b[0m                                Traceback (most recent call last)",
            "\u001b[0;32m/tmp/ipython-input-60-1850463650.py\u001b[0m in \u001b[0;36m<cell line: 0>\u001b[0;34m()\u001b[0m\n\u001b[0;32m----> 1\u001b[0;31m \u001b[0mprob\u001b[0m\u001b[0;34m[\u001b[0m\u001b[0mtorch\u001b[0m\u001b[0;34m.\u001b[0m\u001b[0marange\u001b[0m\u001b[0;34m(\u001b[0m\u001b[0;36m32\u001b[0m\u001b[0;34m)\u001b[0m\u001b[0;34m,\u001b[0m \u001b[0mY\u001b[0m\u001b[0;34m]\u001b[0m\u001b[0;34m.\u001b[0m\u001b[0mshape\u001b[0m \u001b[0;31m# output probabilities of the model for correct chars\u001b[0m\u001b[0;34m\u001b[0m\u001b[0;34m\u001b[0m\u001b[0m\n\u001b[0m",
            "\u001b[0;31mIndexError\u001b[0m: shape mismatch: indexing tensors could not be broadcast together with shapes [32], [228146]"
          ]
        }
      ]
    },
    {
      "cell_type": "code",
      "source": [
        "# negative log likelihood loss for this batch of 32 input things *sequence of 3 of chars*\n",
        "loss = -prob[torch.arange(32), Y].log().mean()\n",
        "loss"
      ],
      "metadata": {
        "id": "JZXQdQAIbscA",
        "outputId": "d440b393-1c48-478c-c790-2da3674823c8",
        "colab": {
          "base_uri": "https://localhost:8080/",
          "height": 176
        }
      },
      "id": "JZXQdQAIbscA",
      "execution_count": 61,
      "outputs": [
        {
          "output_type": "error",
          "ename": "IndexError",
          "evalue": "shape mismatch: indexing tensors could not be broadcast together with shapes [32], [228146]",
          "traceback": [
            "\u001b[0;31m---------------------------------------------------------------------------\u001b[0m",
            "\u001b[0;31mIndexError\u001b[0m                                Traceback (most recent call last)",
            "\u001b[0;32m/tmp/ipython-input-61-2068226379.py\u001b[0m in \u001b[0;36m<cell line: 0>\u001b[0;34m()\u001b[0m\n\u001b[1;32m      1\u001b[0m \u001b[0;31m# negative log likelihood loss for this batch of 32 input things *sequence of 3 of chars*\u001b[0m\u001b[0;34m\u001b[0m\u001b[0;34m\u001b[0m\u001b[0m\n\u001b[0;32m----> 2\u001b[0;31m \u001b[0mloss\u001b[0m \u001b[0;34m=\u001b[0m \u001b[0;34m-\u001b[0m\u001b[0mprob\u001b[0m\u001b[0;34m[\u001b[0m\u001b[0mtorch\u001b[0m\u001b[0;34m.\u001b[0m\u001b[0marange\u001b[0m\u001b[0;34m(\u001b[0m\u001b[0;36m32\u001b[0m\u001b[0;34m)\u001b[0m\u001b[0;34m,\u001b[0m \u001b[0mY\u001b[0m\u001b[0;34m]\u001b[0m\u001b[0;34m.\u001b[0m\u001b[0mlog\u001b[0m\u001b[0;34m(\u001b[0m\u001b[0;34m)\u001b[0m\u001b[0;34m.\u001b[0m\u001b[0mmean\u001b[0m\u001b[0;34m(\u001b[0m\u001b[0;34m)\u001b[0m\u001b[0;34m\u001b[0m\u001b[0;34m\u001b[0m\u001b[0m\n\u001b[0m\u001b[1;32m      3\u001b[0m \u001b[0mloss\u001b[0m\u001b[0;34m\u001b[0m\u001b[0;34m\u001b[0m\u001b[0m\n",
            "\u001b[0;31mIndexError\u001b[0m: shape mismatch: indexing tensors could not be broadcast together with shapes [32], [228146]"
          ]
        }
      ]
    },
    {
      "cell_type": "code",
      "source": [
        "# ----------------- better put version -----------------"
      ],
      "metadata": {
        "id": "sbr1jhDHcS5y"
      },
      "id": "sbr1jhDHcS5y",
      "execution_count": 112,
      "outputs": []
    },
    {
      "cell_type": "code",
      "source": [
        "# X.shape, Y.shape\n",
        "Xtr.shape, Ytr.shape"
      ],
      "metadata": {
        "id": "_r8NYF6ucYre",
        "outputId": "984d0e9e-ebf4-43da-bb6f-05dc7f1e2259",
        "colab": {
          "base_uri": "https://localhost:8080/"
        }
      },
      "id": "_r8NYF6ucYre",
      "execution_count": 113,
      "outputs": [
        {
          "output_type": "execute_result",
          "data": {
            "text/plain": [
              "(torch.Size([182771, 3]), torch.Size([182771]))"
            ]
          },
          "metadata": {},
          "execution_count": 113
        }
      ]
    },
    {
      "cell_type": "code",
      "source": [
        "g = torch.Generator().manual_seed(2147483647)\n",
        "C = torch.randn((27, 10), generator=g)\n",
        "W1 = torch.randn((30, 200), generator=g)\n",
        "b1 = torch.randn(200, generator=g)\n",
        "W2 = torch.randn((200, 27), generator=g)\n",
        "b2 = torch.randn(27, generator=g)\n",
        "\n",
        "parameters = [C, W1, b1, W2, b2]\n"
      ],
      "metadata": {
        "id": "etxfR69fSI9r"
      },
      "id": "etxfR69fSI9r",
      "execution_count": 121,
      "outputs": []
    },
    {
      "cell_type": "code",
      "source": [
        "print('Y shape :', Y.shape)\n",
        "print('prob shape: ', prob.shape)\n",
        "\n",
        "\n",
        "print(prob[[0,1], [1,1]])\n",
        "\n",
        "prob[0][1]"
      ],
      "metadata": {
        "id": "E254s7QBVvTl",
        "outputId": "f31b921a-9f64-404f-a6e2-8e9448fa748c",
        "colab": {
          "base_uri": "https://localhost:8080/"
        }
      },
      "id": "E254s7QBVvTl",
      "execution_count": 122,
      "outputs": [
        {
          "output_type": "stream",
          "name": "stdout",
          "text": [
            "Y shape : torch.Size([228146])\n",
            "prob shape:  torch.Size([228146, 27])\n",
            "tensor([9.2627e-17, 1.9059e-16])\n"
          ]
        },
        {
          "output_type": "execute_result",
          "data": {
            "text/plain": [
              "tensor(9.2627e-17)"
            ]
          },
          "metadata": {},
          "execution_count": 122
        }
      ]
    },
    {
      "cell_type": "code",
      "source": [
        "sum(p.nelement() for p in parameters) # number of parameters in total"
      ],
      "metadata": {
        "id": "bCcMzk3QTxCW",
        "outputId": "a42cc829-3042-4a3e-e26f-a5fd946fbc36",
        "colab": {
          "base_uri": "https://localhost:8080/"
        }
      },
      "id": "bCcMzk3QTxCW",
      "execution_count": 123,
      "outputs": [
        {
          "output_type": "execute_result",
          "data": {
            "text/plain": [
              "11897"
            ]
          },
          "metadata": {},
          "execution_count": 123
        }
      ]
    },
    {
      "cell_type": "code",
      "source": [
        "for p in parameters:\n",
        "  p.requires_grad = True\n"
      ],
      "metadata": {
        "id": "5DKFghyGY4HJ"
      },
      "id": "5DKFghyGY4HJ",
      "execution_count": 124,
      "outputs": []
    },
    {
      "cell_type": "code",
      "source": [
        "lri = []\n",
        "lossi = []\n",
        "stepi = []\n",
        "\n",
        "for i in range(30000):\n",
        "  # minibatch construct\n",
        "  ix = torch.randint(0, Xtr.shape[0], (32,)) # picks 32 random data rows from X\n",
        "\n",
        "  # forward pass\n",
        "  emb = C[Xtr[ix]] # (32, 3, 2) - embeddings for input - fully linear\n",
        "  h = torch.tanh(emb.view(-1,30) @ W1 + b1) # (32, 100) - hidden layer: linear + tanh\n",
        "  logits = h @ W2 + b2 # (32, 27)\n",
        "\n",
        "  # classification\n",
        "  # counts = logits.exp()\n",
        "  # prob = counts / counts.sum(1, keepdims=True)\n",
        "  # loss = -prob[torch.arange(32), Y].log().mean()\n",
        "\n",
        "  loss = F.cross_entropy(logits, Ytr[ix])\n",
        "  # print(loss.item())\n",
        "\n",
        "  # backward pass\n",
        "  for p in parameters:\n",
        "    p.grad = None\n",
        "  loss.backward()\n",
        "\n",
        "  # update\n",
        "  lr = 0.01\n",
        "  for p in parameters:\n",
        "    p.data += -lr * p.grad\n",
        "\n",
        "  # track stats\n",
        "  stepi.append(i)\n",
        "  lossi.append(loss.item())\n",
        "\n",
        "print(loss.item())"
      ],
      "metadata": {
        "id": "1yaxikPIT8MQ",
        "outputId": "1cc60f30-f2c3-4b11-b7b3-16747c1b522c",
        "colab": {
          "base_uri": "https://localhost:8080/"
        }
      },
      "id": "1yaxikPIT8MQ",
      "execution_count": 135,
      "outputs": [
        {
          "output_type": "stream",
          "name": "stdout",
          "text": [
            "1.978520154953003\n"
          ]
        }
      ]
    },
    {
      "cell_type": "code",
      "source": [
        "import numpy as np\n",
        "\n",
        "lossi_log = np.log10(lossi)\n",
        "plt.plot(stepi,lossi_log)"
      ],
      "metadata": {
        "id": "li_8lzLSpBko",
        "outputId": "8273086c-f444-4440-b7fb-de51c99b54ec",
        "colab": {
          "base_uri": "https://localhost:8080/",
          "height": 447
        }
      },
      "id": "li_8lzLSpBko",
      "execution_count": 136,
      "outputs": [
        {
          "output_type": "execute_result",
          "data": {
            "text/plain": [
              "[<matplotlib.lines.Line2D at 0x7f137a621b50>]"
            ]
          },
          "metadata": {},
          "execution_count": 136
        },
        {
          "output_type": "display_data",
          "data": {
            "text/plain": [
              "<Figure size 640x480 with 1 Axes>"
            ],
            "image/png": "[encoded data removed]"
          },
          "metadata": {}
        }
      ]
    },
    {
      "cell_type": "code",
      "source": [
        "# cevaluatealculate loss on test data\n",
        "emb = C[Xdev]\n",
        "h = torch.tanh(emb.view(-1,30) @ W1 + b1)\n",
        "logits = h @ W2 + b2\n",
        "loss = F.cross_entropy(logits, Ydev)\n",
        "loss"
      ],
      "metadata": {
        "id": "yy7hiXoCjyzT",
        "outputId": "8ec8e385-c1d6-427b-ca5e-a210242b5a88",
        "colab": {
          "base_uri": "https://localhost:8080/"
        }
      },
      "id": "yy7hiXoCjyzT",
      "execution_count": 137,
      "outputs": [
        {
          "output_type": "execute_result",
          "data": {
            "text/plain": [
              "tensor(2.1997, grad_fn=<NllLossBackward0>)"
            ]
          },
          "metadata": {},
          "execution_count": 137
        }
      ]
    },
    {
      "cell_type": "code",
      "source": [
        "torch.randint(0, X.shape[0], (32,)) # picks 32 random data rows from X"
      ],
      "metadata": {
        "id": "YYMZjklXfW4X",
        "outputId": "41117bcb-1973-4a33-8540-f2ee7943732d",
        "colab": {
          "base_uri": "https://localhost:8080/"
        }
      },
      "id": "YYMZjklXfW4X",
      "execution_count": 69,
      "outputs": [
        {
          "output_type": "execute_result",
          "data": {
            "text/plain": [
              "tensor([ 69744,  80776, 112267,  20391,  11950, 125566,  31819, 102859,  89381,\n",
              "         36575,  81515, 176381, 128845,  87152,  33681, 180497,  41609, 224231,\n",
              "         76773,  83434, 101870,  37483,  44107,  50514, 128335, 219721,  29761,\n",
              "          5060, 166761,  66773, 159009,  28537])"
            ]
          },
          "metadata": {},
          "execution_count": 69
        }
      ]
    },
    {
      "cell_type": "code",
      "source": [
        "# training split, validation/dev split , test split\n",
        "# 80%, 10%, 10%"
      ],
      "metadata": {
        "id": "Y5lIjsTXk5Jr"
      },
      "id": "Y5lIjsTXk5Jr",
      "execution_count": null,
      "outputs": []
    },
    {
      "cell_type": "code",
      "source": [
        "# visualize char embedding space\n",
        "plt.figure(figsize=(8,8))\n",
        "plt.scatter(C[:,0].data, C[:,1].data, s=200)\n",
        "for i in range(C.shape[0]):\n",
        "  plt.text(C[i,0].item(), C[i,1].item(), itos[i], ha='center', va='center', color='white')\n",
        "plt.grid('minor')"
      ],
      "metadata": {
        "id": "sIcfr9CUqN5M",
        "outputId": "0a434360-8a54-4169-d1b3-aac7ce3a3b85",
        "colab": {
          "base_uri": "https://localhost:8080/",
          "height": 676
        }
      },
      "id": "sIcfr9CUqN5M",
      "execution_count": 120,
      "outputs": [
        {
          "output_type": "display_data",
          "data": {
            "text/plain": [
              "<Figure size 800x800 with 1 Axes>"
            ],
            "image/png": "[encoded data removed]"
          },
          "metadata": {}
        }
      ]
    },
    {
      "cell_type": "code",
      "source": [
        "# sample names from the model\n",
        "g = torch.Generator().manual_seed(2147485848)\n",
        "\n",
        "for _ in range(20):\n",
        "  out = []\n",
        "  context = [0] * block_size # initialize with (...)\n",
        "  while True:\n",
        "    emb = C[torch.tensor([context])] # (1, block_size, d)\n",
        "    h = torch.tanh(emb.view(1, -1) @ W1 + b1)\n",
        "    logits = h @ W2 + b2\n",
        "    probs = F.softmax(logits, dim=1)\n",
        "    ix = torch.multinomial(probs, num_samples=1, replacement=True, generator=g).item()\n",
        "    context = context[1:] + [ix]\n",
        "    out.append(ix)\n",
        "    if ix == 0:\n",
        "        break\n",
        "\n",
        "  print(''.join(itos[i] for i in out))"
      ],
      "metadata": {
        "id": "dP_LV0jItl-R",
        "outputId": "d518dae0-ba19-43ce-e9be-0b91b216be94",
        "colab": {
          "base_uri": "https://localhost:8080/"
        }
      },
      "id": "dP_LV0jItl-R",
      "execution_count": 141,
      "outputs": [
        {
          "output_type": "stream",
          "name": "stdout",
          "text": [
            "emy.\n",
            "cor.\n",
            "finny.\n",
            "edajourn.\n",
            "sen.\n",
            "brair.\n",
            "muck.\n",
            "avati.\n",
            "mi.\n",
            "bra.\n",
            "malani.\n",
            "phye.\n",
            "tam.\n",
            "zadi.\n",
            "ily.\n",
            "wyliah.\n",
            "abbi.\n",
            "dey.\n",
            "ele.\n",
            "chia.\n"
          ]
        }
      ]
    }
  ],
  "metadata": {
    "language_info": {
      "name": "python"
    },
    "colab": {
      "provenance": []
    },
    "kernelspec": {
      "name": "python3",
      "display_name": "Python 3"
    }
  },
  "nbformat": 4,
  "nbformat_minor": 5
}