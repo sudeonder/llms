{
 "cells": [
  {
   "cell_type": "markdown",
   "id": "c62d296c",
   "metadata": {},
   "source": [
    "## bigram v2 - MLP"
   ]
  }
 ],
 "metadata": {
  "language_info": {
   "name": "python"
  }
 },
 "nbformat": 4,
 "nbformat_minor": 5
}
