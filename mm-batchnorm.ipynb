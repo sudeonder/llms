{
  "cells": [
    {
      "cell_type": "code",
      "execution_count": null,
      "id": "8b2fc382",
      "metadata": {
        "vscode": {
          "languageId": "plaintext"
        },
        "id": "8b2fc382"
      },
      "outputs": [],
      "source": [
        "# activations, gradients, batchnorm"
      ]
    },
    {
      "cell_type": "code",
      "source": [
        "import torch\n",
        "import torch.nn.functional as F\n",
        "import matplotlib.pyplot as plt\n",
        "%matplotlib inline"
      ],
      "metadata": {
        "id": "l8uX4dqAErxy"
      },
      "id": "l8uX4dqAErxy",
      "execution_count": 5,
      "outputs": []
    },
    {
      "cell_type": "code",
      "source": [
        "# read all the words\n",
        "words = open('names.txt', 'r').read().splitlines()\n",
        "words[:4]"
      ],
      "metadata": {
        "id": "LUzZNDM-Few6",
        "outputId": "585a51af-ced5-48e9-bb91-ac12ee93af4f",
        "colab": {
          "base_uri": "https://localhost:8080/"
        }
      },
      "id": "LUzZNDM-Few6",
      "execution_count": 6,
      "outputs": [
        {
          "output_type": "execute_result",
          "data": {
            "text/plain": [
              "['emma', 'olivia', 'ava', 'isabella']"
            ]
          },
          "metadata": {},
          "execution_count": 6
        }
      ]
    },
    {
      "cell_type": "code",
      "source": [
        "len(words)"
      ],
      "metadata": {
        "id": "PYu8AQikFspS",
        "outputId": "2ae10278-4fa6-4903-ea3c-53fdda116f54",
        "colab": {
          "base_uri": "https://localhost:8080/"
        }
      },
      "id": "PYu8AQikFspS",
      "execution_count": 7,
      "outputs": [
        {
          "output_type": "execute_result",
          "data": {
            "text/plain": [
              "32033"
            ]
          },
          "metadata": {},
          "execution_count": 7
        }
      ]
    },
    {
      "cell_type": "code",
      "source": [
        "chars = sorted(list(set(''.join(words))))\n",
        "stoi = {s:i+1 for i,s in enumerate(chars)}\n",
        "stoi['.'] = 0\n",
        "itos = {i:s for s,i in stoi.items()}\n",
        "vocab_size = len(itos)\n",
        "print(itos)\n",
        "print(vocab_size)"
      ],
      "metadata": {
        "id": "I8H5V2qsGCRv",
        "outputId": "6560b5e3-0dcc-4dd7-d360-ffdecdcfdb02",
        "colab": {
          "base_uri": "https://localhost:8080/"
        }
      },
      "id": "I8H5V2qsGCRv",
      "execution_count": 11,
      "outputs": [
        {
          "output_type": "stream",
          "name": "stdout",
          "text": [
            "{1: 'a', 2: 'b', 3: 'c', 4: 'd', 5: 'e', 6: 'f', 7: 'g', 8: 'h', 9: 'i', 10: 'j', 11: 'k', 12: 'l', 13: 'm', 14: 'n', 15: 'o', 16: 'p', 17: 'q', 18: 'r', 19: 's', 20: 't', 21: 'u', 22: 'v', 23: 'w', 24: 'x', 25: 'y', 26: 'z', 0: '.'}\n",
            "27\n"
          ]
        }
      ]
    },
    {
      "cell_type": "code",
      "source": [
        "# build the dataset\n",
        "block_size = 3 # context length: how many characters do we take to predict the next one?\n",
        "\n",
        "\n",
        "def build_dataset(words):\n",
        "  X, Y = [], []\n",
        "  for w in words:\n",
        "    context = [0] * block_size\n",
        "    for ch in w + '.':\n",
        "      ix = stoi[ch]\n",
        "      X.append(context)\n",
        "      Y.append(ix)\n",
        "      context = context[1:] + [ix] # crop and append\n",
        "\n",
        "  X = torch.tensor(X)\n",
        "  Y = torch.tensor(Y)\n",
        "  print(X.shape, Y.shape)\n",
        "  return X, Y\n",
        "\n",
        "import random\n",
        "random.seed(42)\n",
        "random.shuffle(words)\n",
        "n1 = int(0.8*len(words))\n",
        "n2 = int(0.9*len(words))\n",
        "\n",
        "Xtr, Ytr = build_dataset(words[:n1])\n",
        "Xdev, Ydev = build_dataset(words[n1:n2])\n",
        "Xte, Yte = build_dataset(words[n2:])\n"
      ],
      "metadata": {
        "id": "gLfDbLwUGxGp",
        "outputId": "9645abaf-3049-4529-cd3c-02ee78ac358b",
        "colab": {
          "base_uri": "https://localhost:8080/"
        }
      },
      "id": "gLfDbLwUGxGp",
      "execution_count": 12,
      "outputs": [
        {
          "output_type": "stream",
          "name": "stdout",
          "text": [
            "torch.Size([182625, 3]) torch.Size([182625])\n",
            "torch.Size([22655, 3]) torch.Size([22655])\n",
            "torch.Size([22866, 3]) torch.Size([22866])\n"
          ]
        }
      ]
    },
    {
      "cell_type": "code",
      "source": [
        "# MLP\n",
        "n_embd = 10 # dimensionality of a single char embedding\n",
        "n_hidden = 200 # number of neurons in the hidden layer\n",
        "\n",
        "g = torch.Generator().manual_seed(2147483647)\n",
        "C = torch.randn((vocab_size, n_embd), generator=g) # look-up table for char embeddings ix:emb\n",
        "W1 = torch.randn((n_embd*block_size, n_hidden), generator=g)\n",
        "b1 = torch.randn(n_hidden, generator=g)\n",
        "W2 = torch.randn((n_hidden, vocab_size), generator=g)\n",
        "b2 = torch.randn(vocab_size, generator=g)\n",
        "\n",
        "parameters = [C, W1, b1, W2, b2]\n",
        "print(sum(p.nelement() for p in parameters))\n",
        "for p in parameters:\n",
        "  p.requires_grad = True"
      ],
      "metadata": {
        "id": "Q7pY20adIATX",
        "outputId": "eb66e15a-9608-461a-8c87-55a5ca53e025",
        "colab": {
          "base_uri": "https://localhost:8080/"
        }
      },
      "id": "Q7pY20adIATX",
      "execution_count": 14,
      "outputs": [
        {
          "output_type": "stream",
          "name": "stdout",
          "text": [
            "11897\n"
          ]
        }
      ]
    },
    {
      "cell_type": "code",
      "source": [
        "max_steps = 20000\n",
        "batch_size = 32\n",
        "lossi = []\n",
        "\n",
        "for i in range(max_steps):\n",
        "\n",
        "  # minibatch construct\n",
        "  ix = torch.randint(0, Xtr.shape[0], (batch_size,), generator=g)\n",
        "  Xb, Yb = Xtr[ix], Ytr[ix] # Batch X, Y\n",
        "\n",
        "  # forward pass\n",
        "  emb = C[Xb] # (batch_size, context_size, n_embd)\n",
        "  embcat = emb.view(emb.shape[0], -1)\n",
        "  hpreact = embcat @ W1 + b1 # hidden layer pre-activations\n",
        "  h = torch.tanh(hpreact) # hidden layer - after actiovations\n",
        "  logits = h @ W2 + b2 # output layer\n",
        "  loss = F.cross_entropy(logits, Yb)\n",
        "\n",
        "  # backward pass\n",
        "  for p in parameters:\n",
        "    p.grad = None\n",
        "  loss.backward()\n",
        "\n",
        "  # update\n",
        "  lr = 0.1 if i < 10000 else 0.01\n",
        "  for p in parameters:\n",
        "    p.data += -lr * p.grad\n",
        "\n",
        "  # track stats\n",
        "  if i % 1000 == 0:\n",
        "    print(f'{i:7d}/{max_steps:7d}: {loss.item():.4f}')\n",
        "  lossi.append(loss.log10().item())"
      ],
      "metadata": {
        "id": "u9uTaPD3KezD",
        "outputId": "fcaa6a90-f416-49f6-d5e9-1dcb43bae8b4",
        "colab": {
          "base_uri": "https://localhost:8080/"
        }
      },
      "id": "u9uTaPD3KezD",
      "execution_count": 15,
      "outputs": [
        {
          "output_type": "stream",
          "name": "stdout",
          "text": [
            "      0/  20000: 27.8817\n",
            "   1000/  20000: 4.1899\n",
            "   2000/  20000: 3.0992\n",
            "   3000/  20000: 2.9468\n",
            "   4000/  20000: 2.2726\n",
            "   5000/  20000: 2.4072\n",
            "   6000/  20000: 2.4195\n",
            "   7000/  20000: 2.8040\n",
            "   8000/  20000: 2.5150\n",
            "   9000/  20000: 2.5398\n",
            "  10000/  20000: 2.9415\n",
            "  11000/  20000: 1.9093\n",
            "  12000/  20000: 2.1238\n",
            "  13000/  20000: 2.1738\n",
            "  14000/  20000: 2.8303\n",
            "  15000/  20000: 2.2554\n",
            "  16000/  20000: 2.4044\n",
            "  17000/  20000: 2.3875\n",
            "  18000/  20000: 2.1968\n",
            "  19000/  20000: 2.2890\n"
          ]
        }
      ]
    },
    {
      "cell_type": "code",
      "source": [
        "plt.plot(lossi)"
      ],
      "metadata": {
        "id": "JnEceqBdMTNW",
        "outputId": "21f31e7d-131a-44bc-f60d-59862ab3f801",
        "colab": {
          "base_uri": "https://localhost:8080/",
          "height": 448
        }
      },
      "id": "JnEceqBdMTNW",
      "execution_count": 16,
      "outputs": [
        {
          "output_type": "execute_result",
          "data": {
            "text/plain": [
              "[<matplotlib.lines.Line2D at 0x7b667ef182d0>]"
            ]
          },
          "metadata": {},
          "execution_count": 16
        },
        {
          "output_type": "display_data",
          "data": {
            "text/plain": [
              "<Figure size 640x480 with 1 Axes>"
            ],
            "image/png": "[encoded data removed]"
          },
          "metadata": {}
        }
      ]
    },
    {
      "cell_type": "code",
      "source": [
        "# train and val loss\n",
        "@torch.no_grad() # decorator to diable gradient tracking\n",
        "def split_loss(split):\n",
        "  x,y = {\n",
        "      'train': (Xtr, Ytr),\n",
        "      'val': (Xdev, Ydev),\n",
        "      'test': (Xte, Yte),\n",
        "  }[split]\n",
        "  emb = C[x]\n",
        "  embcat = emb.view(emb.shape[0], -1) # (N, block_size * n_emb)\n",
        "  h = torch.tanh(embcat @ W1 + b1)\n",
        "  logits = h @ W2 + b2 # (N, vocab_size)\n",
        "  loss = F.cross_entropy(logits, y)\n",
        "  print(split, loss.item())\n",
        "\n",
        "split_loss('train')\n",
        "split_loss('val')"
      ],
      "metadata": {
        "id": "gVlpSVJSMZJn",
        "outputId": "303c8522-c1ba-4ef0-f392-9e3159a9e135",
        "colab": {
          "base_uri": "https://localhost:8080/"
        }
      },
      "id": "gVlpSVJSMZJn",
      "execution_count": 18,
      "outputs": [
        {
          "output_type": "stream",
          "name": "stdout",
          "text": [
            "train 2.308692455291748\n",
            "val 2.3186745643615723\n"
          ]
        }
      ]
    },
    {
      "cell_type": "code",
      "source": [
        "# sample from the model\n",
        "\n",
        "g = torch.Generator().manual_seed(2132454565)\n",
        "\n",
        "for _ in range(20):\n",
        "  out = []\n",
        "  context = [0] * block_size\n",
        "  while True:\n",
        "    emb = C[torch.tensor([context])]\n",
        "    h = torch.tanh(emb.view(1, -1) @ W1 + b1)\n",
        "    logits = h @ W2 + b2\n",
        "    probs = F.softmax(logits, dim=1)\n",
        "    ix = torch.multinomial(probs, num_samples=1, generator=g).item()\n",
        "    context = context[1:] + [ix]\n",
        "    out.append(ix)\n",
        "    if ix == 0:\n",
        "      break\n",
        "\n",
        "  print(''.join(itos[i] for i in out))"
      ],
      "metadata": {
        "id": "17jPojSWM673",
        "outputId": "f323d5a6-606d-4fac-d8fc-2e67061e112f",
        "colab": {
          "base_uri": "https://localhost:8080/"
        }
      },
      "id": "17jPojSWM673",
      "execution_count": 21,
      "outputs": [
        {
          "output_type": "stream",
          "name": "stdout",
          "text": [
            "aniaan.\n",
            "winah.\n",
            "kanayle.\n",
            "jomitdanien.\n",
            "kaym.\n",
            "haj.\n",
            "naweretellanyanen.\n",
            "wah.\n",
            "reckotri.\n",
            "jasebs.\n",
            "sen.\n",
            "nay.\n",
            "ketoston.\n",
            "ses.\n",
            "ama.\n",
            "brie.\n",
            "ane.\n",
            "sen.\n",
            "esdoldan.\n",
            "nia.\n"
          ]
        }
      ]
    }
  ],
  "metadata": {
    "language_info": {
      "name": "python"
    },
    "colab": {
      "provenance": []
    },
    "kernelspec": {
      "name": "python3",
      "display_name": "Python 3"
    }
  },
  "nbformat": 4,
  "nbformat_minor": 5
}