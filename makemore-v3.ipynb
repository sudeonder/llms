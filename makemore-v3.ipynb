{
 "cells": [
  {
   "cell_type": "markdown",
   "id": "d60e1d28",
   "metadata": {},
   "source": [
    "# activations, gradients, batchnorm"
   ]
  }
 ],
 "metadata": {
  "language_info": {
   "name": "python"
  }
 },
 "nbformat": 4,
 "nbformat_minor": 5
}
