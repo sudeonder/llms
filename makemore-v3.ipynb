{
  "cells": [
    {
      "cell_type": "markdown",
      "id": "d60e1d28",
      "metadata": {
        "id": "d60e1d28"
      },
      "source": [
        "# activations, gradients, batchnorm"
      ]
    },
    {
      "cell_type": "code",
      "source": [
        "import torch\n",
        "import torch.nn.functional as F\n",
        "import matplotlib.pyplot as plt\n",
        "%matplotlib inline"
      ],
      "metadata": {
        "id": "EqLqLKRQYenb"
      },
      "id": "EqLqLKRQYenb",
      "execution_count": 1,
      "outputs": []
    },
    {
      "cell_type": "code",
      "source": [
        "words = open('names.txt', 'r').read().splitlines()\n",
        "words[:8]"
      ],
      "metadata": {
        "colab": {
          "base_uri": "https://localhost:8080/"
        },
        "id": "PiaXSTF8a3VC",
        "outputId": "80c1710f-e836-454c-ed67-88a4fd782e00"
      },
      "id": "PiaXSTF8a3VC",
      "execution_count": 4,
      "outputs": [
        {
          "output_type": "execute_result",
          "data": {
            "text/plain": [
              "['emma', 'olivia', 'ava', 'isabella', 'sophia', 'charlotte', 'mia', 'amelia']"
            ]
          },
          "metadata": {},
          "execution_count": 4
        }
      ]
    },
    {
      "cell_type": "code",
      "source": [
        "# build vocab chars and mappings\n",
        "chars = sorted(list(set(''.join(words))))\n",
        "stoi = { s:i+1 for i,s in enumerate(chars) }\n",
        "stoi['.'] = 0\n",
        "itos = {i:s for s,i in stoi.items()}\n",
        "vocab_size = len(itos)\n",
        "print(itos)\n",
        "print(vocab_size)\n"
      ],
      "metadata": {
        "colab": {
          "base_uri": "https://localhost:8080/"
        },
        "id": "5kyQAQmXbGOZ",
        "outputId": "12261679-416b-4cba-d882-8189f995e6e2"
      },
      "id": "5kyQAQmXbGOZ",
      "execution_count": 14,
      "outputs": [
        {
          "output_type": "stream",
          "name": "stdout",
          "text": [
            "{1: 'a', 2: 'b', 3: 'c', 4: 'd', 5: 'e', 6: 'f', 7: 'g', 8: 'h', 9: 'i', 10: 'j', 11: 'k', 12: 'l', 13: 'm', 14: 'n', 15: 'o', 16: 'p', 17: 'q', 18: 'r', 19: 's', 20: 't', 21: 'u', 22: 'v', 23: 'w', 24: 'x', 25: 'y', 26: 'z', 0: '.'}\n",
            "27\n"
          ]
        }
      ]
    },
    {
      "cell_type": "code",
      "source": [
        "# build the dataset\n",
        "block_size = 3 # context length\n",
        "\n",
        "def build_dataset(words):\n",
        "  X, Y = [], []\n",
        "  for w in words:\n",
        "    context = [0] * block_size\n",
        "    for ch in w + '.':\n",
        "      ix = stoi[ch]\n",
        "      X.append(context)\n",
        "      Y.append(ix)\n",
        "      context = context[1:] + [ix]\n",
        "\n",
        "  X = torch.tensor(X)\n",
        "  Y = torch.tensor(Y)\n",
        "  print(X.shape, Y.shape)\n",
        "  return X, Y\n",
        "\n",
        "import random\n",
        "random.seed(42)\n",
        "random.shuffle(words)\n",
        "n1 = int(0.8*len(words))\n",
        "n2 = int(0.9*len(words))\n",
        "\n",
        "Xtr, Ytr = build_dataset(words[:n1])\n",
        "Xdev, Ydev = build_dataset(words[n1:n2])\n",
        "Xte, Yte = build_dataset(words[n2:])\n",
        "\n"
      ],
      "metadata": {
        "colab": {
          "base_uri": "https://localhost:8080/"
        },
        "id": "qjfvfzdgiqC7",
        "outputId": "34f9b157-db59-4637-f7d7-c5c25be9561f"
      },
      "id": "qjfvfzdgiqC7",
      "execution_count": 18,
      "outputs": [
        {
          "output_type": "stream",
          "name": "stdout",
          "text": [
            "torch.Size([182580, 3]) torch.Size([182580])\n",
            "torch.Size([22767, 3]) torch.Size([22767])\n",
            "torch.Size([22799, 3]) torch.Size([22799])\n"
          ]
        }
      ]
    },
    {
      "cell_type": "code",
      "source": [
        "# MLP revisited\n",
        "n_emb = 10 # dimension of each char vector\n",
        "n_hidden = 200 # number of neurons in the hidden layer\n",
        "\n",
        "g = torch.Generator().manual_seed(2147483647)\n",
        "C = torch.randn((vocab_size, n_emb), generator=g) # lookup table - each row is the embedding of a char (27x10)\n",
        "W1 = torch.rand((n_emb * block_size, n_hidden), generator=g)\n",
        "b1 = torch.rand(n_hidden, generator=g)\n",
        "W2 = torch.rand((n_hidden, vocab_size), generator=g) * 0.01\n",
        "b2 = torch.rand(vocab_size, generator=g) * 0\n",
        "\n",
        "parameters = [C,W1,b1, W2, b2]\n",
        "print(sum(p.nelement() for p in parameters)) # number of total parameters of the model\n",
        "for p in parameters:\n",
        "  p.requires_grad = True"
      ],
      "metadata": {
        "colab": {
          "base_uri": "https://localhost:8080/"
        },
        "id": "a-lmGaPRk1c6",
        "outputId": "89e162e6-89ef-4f1d-afa7-265b4533e8b2"
      },
      "id": "a-lmGaPRk1c6",
      "execution_count": 40,
      "outputs": [
        {
          "output_type": "stream",
          "name": "stdout",
          "text": [
            "11897\n"
          ]
        }
      ]
    },
    {
      "cell_type": "code",
      "source": [
        "# optimization from last time\n",
        "max_steps = 20000\n",
        "batch_size = 32 # in a batch 32 X,Y pairs will be used\n",
        "lossi = []\n",
        "\n",
        "for i in range(max_steps):\n",
        "  ix = torch.randint(0, Xtr.shape[0], (batch_size,)) # picks batch_size random context from X\n",
        "  Xb, Yb = Xtr[ix], Ytr[ix] # batch X, Y\n",
        "\n",
        "  # forward pass\n",
        "  emb = C[Xb] # embeddings of Xb\n",
        "  embcat = emb.view(-1, n_emb * block_size) # reshape emb to (batch_size, n_emb * block_size)\n",
        "  hpreact = embcat @ W1 + b1 # hidden layer pre-activation\n",
        "  h = torch.tanh(hpreact) # hidden layer\n",
        "  logits = h @ W2 + b2 # output layer\n",
        "  loss = F.cross_entropy(logits, Yb) # loss function\n",
        "\n",
        "  # backward pass\n",
        "  for p in parameters:\n",
        "    p.grad = None\n",
        "  loss.backward()\n",
        "\n",
        "  # update\n",
        "  lr = 0.1 if i < 10000 else 0.01\n",
        "  for p in parameters:\n",
        "    p.data += -lr * p.grad\n",
        "\n",
        "  # track stats\n",
        "  if i % 1000 == 0:\n",
        "    print(f'{i:7d}/{max_steps:7d}: {loss.item():.4f}')\n",
        "  lossi.append(loss.log10().item())"
      ],
      "metadata": {
        "colab": {
          "base_uri": "https://localhost:8080/"
        },
        "id": "FlR7a0Ykl4Tb",
        "outputId": "0aff7e11-9f95-4f9b-dbba-2c09ad7117b3"
      },
      "id": "FlR7a0Ykl4Tb",
      "execution_count": 41,
      "outputs": [
        {
          "output_type": "stream",
          "name": "stdout",
          "text": [
            "      0/  20000: 3.3116\n",
            "   1000/  20000: 2.6525\n",
            "   2000/  20000: 2.2794\n",
            "   3000/  20000: 2.3115\n",
            "   4000/  20000: 2.0593\n",
            "   5000/  20000: 2.2440\n",
            "   6000/  20000: 2.3969\n",
            "   7000/  20000: 2.5467\n",
            "   8000/  20000: 2.5349\n",
            "   9000/  20000: 2.5987\n",
            "  10000/  20000: 1.8770\n",
            "  11000/  20000: 1.9923\n",
            "  12000/  20000: 1.9507\n",
            "  13000/  20000: 2.0721\n",
            "  14000/  20000: 2.5754\n",
            "  15000/  20000: 2.4059\n",
            "  16000/  20000: 2.3185\n",
            "  17000/  20000: 2.1628\n",
            "  18000/  20000: 2.1766\n",
            "  19000/  20000: 2.3755\n"
          ]
        }
      ]
    },
    {
      "cell_type": "code",
      "source": [
        "plt.plot(lossi)"
      ],
      "metadata": {
        "colab": {
          "base_uri": "https://localhost:8080/",
          "height": 448
        },
        "id": "m6nfHJHklKrw",
        "outputId": "3e655815-c540-4b05-b473-0b196aa5b6f0"
      },
      "id": "m6nfHJHklKrw",
      "execution_count": 26,
      "outputs": [
        {
          "output_type": "execute_result",
          "data": {
            "text/plain": [
              "[<matplotlib.lines.Line2D at 0x7f2965f1eb50>]"
            ]
          },
          "metadata": {},
          "execution_count": 26
        },
        {
          "output_type": "display_data",
          "data": {
            "text/plain": [
              "<Figure size 640x480 with 1 Axes>"
            ],
            "image/png": "[encoded data removed]"
          },
          "metadata": {}
        }
      ]
    },
    {
      "cell_type": "code",
      "source": [
        "# problem with the initialization\n",
        "logits = torch.tensor([0.0, 5.0, 0.0, 0.0])\n",
        "probs = F.softmax(logits, dim=0)\n",
        "loss = -torch.log(probs[0])\n",
        "probs, loss"
      ],
      "metadata": {
        "colab": {
          "base_uri": "https://localhost:8080/"
        },
        "id": "YwKzUg3EvOst",
        "outputId": "cdf8b042-6981-422f-acfc-32fcaeb7aa54"
      },
      "id": "YwKzUg3EvOst",
      "execution_count": 39,
      "outputs": [
        {
          "output_type": "execute_result",
          "data": {
            "text/plain": [
              "(tensor([0.0066, 0.9802, 0.0066, 0.0066]), tensor(5.0200))"
            ]
          },
          "metadata": {},
          "execution_count": 39
        }
      ]
    },
    {
      "cell_type": "code",
      "source": [
        "@torch.no_grad() # decorator to diable gradient tracking\n",
        "def split_loss(split):\n",
        "  x,y = {\n",
        "      'train': (Xtr, Ytr),\n",
        "      'val': (Xdev, Ydev),\n",
        "      'test': (Xte, Yte),\n",
        "  }[split]\n",
        "  emb = C[x]\n",
        "  embcat = emb.view(emb.shape[0], -1) # (N, block_size * n_emb)\n",
        "  h = torch.tanh(embcat @ W1 + b1)\n",
        "  logits = h @ W2 + b2\n",
        "  loss = F.cross_entropy(logits, y)\n",
        "  print(split, loss.item())\n",
        "\n",
        "split_loss('train')\n",
        "split_loss('val')"
      ],
      "metadata": {
        "colab": {
          "base_uri": "https://localhost:8080/"
        },
        "id": "0OYnyOX1soqD",
        "outputId": "7b114664-7197-492e-e259-adfe1263e856"
      },
      "id": "0OYnyOX1soqD",
      "execution_count": 42,
      "outputs": [
        {
          "output_type": "stream",
          "name": "stdout",
          "text": [
            "train 2.1559576988220215\n",
            "val 2.1780924797058105\n"
          ]
        }
      ]
    },
    {
      "cell_type": "code",
      "source": [
        "# sample from the model\n",
        "g = torch.Generator().manual_seed(2147483647 + 10)\n",
        "\n",
        "for _ in range(20):\n",
        "  out =[]\n",
        "  context = [0] * block_size\n",
        "  while True:\n",
        "    # forward pass the neural net\n",
        "    emb = C[torch.tensor([context])]\n",
        "    h = torch.tanh(emb.view(1, -1) @ W1 + b1)\n",
        "    logits = h @ W2 + b2\n",
        "    probs = F.softmax(logits, dim=1)\n",
        "    # sample from the distribution\n",
        "    ix = torch.multinomial(probs, num_samples=1, generator=g).item()\n",
        "    # shift the context window and track\n",
        "    context = context[1:] + [ix]\n",
        "    out.append(ix)\n",
        "    if ix == 0:\n",
        "      break\n",
        "  print(''.join(itos[i] for i in out))\n"
      ],
      "metadata": {
        "colab": {
          "base_uri": "https://localhost:8080/"
        },
        "id": "BSnhrbGAtS7Q",
        "outputId": "ab2f8751-600c-4c6a-e28d-6657b30e14ef"
      },
      "id": "BSnhrbGAtS7Q",
      "execution_count": 33,
      "outputs": [
        {
          "output_type": "stream",
          "name": "stdout",
          "text": [
            "mora.\n",
            "kayah.\n",
            "seel.\n",
            "ndyn.\n",
            "aley.\n",
            "threstadrlee.\n",
            "adelynnelin.\n",
            "shyanelle.\n",
            "elieananar.\n",
            "kayzion.\n",
            "kasin.\n",
            "shubergini.\n",
            "jest.\n",
            "jaireth.\n",
            "koxtterofiu.\n",
            "zayven.\n",
            "kylynn.\n",
            "ehs.\n",
            "kayshusteyah.\n",
            "hal.\n"
          ]
        }
      ]
    }
  ],
  "metadata": {
    "language_info": {
      "name": "python"
    },
    "colab": {
      "provenance": []
    },
    "kernelspec": {
      "name": "python3",
      "display_name": "Python 3"
    }
  },
  "nbformat": 4,
  "nbformat_minor": 5
}